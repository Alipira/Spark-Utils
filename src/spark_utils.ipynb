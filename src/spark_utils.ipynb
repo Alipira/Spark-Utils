{
 "cells": [
  {
   "cell_type": "code",
   "execution_count": 1,
   "metadata": {},
   "outputs": [
    {
     "data": {
      "text/html": [
       "<style>pre { white-space: pre !important; }</style>"
      ],
      "text/plain": [
       "<IPython.core.display.HTML object>"
      ]
     },
     "metadata": {},
     "output_type": "display_data"
    },
    {
     "name": "stderr",
     "output_type": "stream",
     "text": [
      "24/03/17 10:21:29 WARN Utils: Your hostname, Rezaei-MR resolves to a loopback address: 127.0.1.1; using 172.26.205.103 instead (on interface eth0)\n",
      "24/03/17 10:21:29 WARN Utils: Set SPARK_LOCAL_IP if you need to bind to another address\n",
      "Setting default log level to \"WARN\".\n",
      "To adjust logging level use sc.setLogLevel(newLevel). For SparkR, use setLogLevel(newLevel).\n",
      "24/03/17 10:21:31 WARN NativeCodeLoader: Unable to load native-hadoop library for your platform... using builtin-java classes where applicable\n",
      "24/03/17 10:21:31 WARN Utils: Service 'SparkUI' could not bind on port 4040. Attempting port 4041.\n"
     ]
    }
   ],
   "source": [
    "from pyspark.sql import SparkSession\n",
    "from pyspark.sql import functions as F\n",
    "from IPython.core.display import HTML\n",
    "\n",
    "display(HTML(\"<style>pre { white-space: pre !important; }</style>\"))\n",
    "spark = SparkSession.builder.getOrCreate()"
   ]
  },
  {
   "cell_type": "code",
   "execution_count": 2,
   "metadata": {},
   "outputs": [],
   "source": [
    "df = spark.read.csv('../data/greenhouse-gas-emissions-by-region-industry-and-ho.csv', header=True)"
   ]
  },
  {
   "cell_type": "code",
   "execution_count": 3,
   "metadata": {},
   "outputs": [],
   "source": [
    "def pretty_print(dataframe, max_lenght=20, **kwargs):\n",
    "    import math\n",
    "    max_lenght = max_lenght\n",
    "    for col in dataframe.columns:\n",
    "        if len(col) > max_lenght:\n",
    "            max_lenght = len(col)\n",
    "    for col in dataframe.columns:\n",
    "        preffix = math.floor((max_lenght - len(col)) / 2)\n",
    "        suffix = math.ceil((max_lenght - len(col)) / 2)\n",
    "        new_name = \" \" * preffix + col + \" \" * suffix\n",
    "        dataframe = dataframe.withColumnRenamed(col, new_name)\n",
    "    dataframe.show(**kwargs)\n",
    "    del(dataframe)"
   ]
  },
  {
   "cell_type": "code",
   "execution_count": 4,
   "metadata": {},
   "outputs": [
    {
     "name": "stdout",
     "output_type": "stream",
     "text": [
      "+--------------------+--------------------+--------------------+--------------------+--------------------+--------------------+--------------------+--------------------+--------------------+\n",
      "|       region       | anzsic_descriptor  |    sub_industry    | household_category |        gas         |       units        |     magnitude      |        year        |      data_val      |\n",
      "+--------------------+--------------------+--------------------+--------------------+--------------------+--------------------+--------------------+--------------------+--------------------+\n",
      "|            Auckland|Forestry and logg...|               Total|               Total|Carbon dioxide eq...|          Kilotonnes|Carbon dioxide eq...|                2007|               45.92|\n",
      "|            Auckland|Forestry and logg...|               Total|               Total|Carbon dioxide eq...|          Kilotonnes|Carbon dioxide eq...|                2008|               45.88|\n",
      "|            Auckland|Forestry and logg...|               Total|               Total|Carbon dioxide eq...|          Kilotonnes|Carbon dioxide eq...|                2009|               43.71|\n",
      "|            Auckland|Forestry and logg...|               Total|               Total|Carbon dioxide eq...|          Kilotonnes|Carbon dioxide eq...|                2010|               39.61|\n",
      "|            Auckland|Forestry and logg...|               Total|               Total|Carbon dioxide eq...|          Kilotonnes|Carbon dioxide eq...|                2011|               40.99|\n",
      "|            Auckland|Forestry and logg...|               Total|               Total|Carbon dioxide eq...|          Kilotonnes|Carbon dioxide eq...|                2012|               41.13|\n",
      "|            Auckland|Forestry and logg...|               Total|               Total|Carbon dioxide eq...|          Kilotonnes|Carbon dioxide eq...|                2013|                40.1|\n",
      "|            Auckland|Forestry and logg...|               Total|               Total|Carbon dioxide eq...|          Kilotonnes|Carbon dioxide eq...|                2014|               41.83|\n",
      "|            Auckland|Forestry and logg...|               Total|               Total|Carbon dioxide eq...|          Kilotonnes|Carbon dioxide eq...|                2015|               35.16|\n",
      "|            Auckland|Forestry and logg...|               Total|               Total|Carbon dioxide eq...|          Kilotonnes|Carbon dioxide eq...|                2016|               27.23|\n",
      "|            Auckland|Forestry and logg...|               Total|               Total|Carbon dioxide eq...|          Kilotonnes|Carbon dioxide eq...|                2017|               25.81|\n",
      "|            Auckland|Forestry and logg...|               Total|               Total|Carbon dioxide eq...|          Kilotonnes|Carbon dioxide eq...|                2018|                33.1|\n",
      "|            Auckland|Forestry and logg...|               Total|               Total|Carbon dioxide eq...|          Kilotonnes|Carbon dioxide eq...|                2019|               32.56|\n",
      "|            Auckland|Forestry and logg...|               Total|               Total|Carbon dioxide eq...|          Kilotonnes|Carbon dioxide eq...|                2020|               38.63|\n",
      "|            Auckland|Forestry and logg...|               Total|               Total|Carbon dioxide eq...|          Kilotonnes|Carbon dioxide eq...|                2021|               49.21|\n",
      "|       Bay of Plenty|Forestry and logg...|               Total|               Total|Carbon dioxide eq...|          Kilotonnes|Carbon dioxide eq...|                2007|              112.27|\n",
      "|       Bay of Plenty|Forestry and logg...|               Total|               Total|Carbon dioxide eq...|          Kilotonnes|Carbon dioxide eq...|                2008|               99.96|\n",
      "|       Bay of Plenty|Forestry and logg...|               Total|               Total|Carbon dioxide eq...|          Kilotonnes|Carbon dioxide eq...|                2009|                 100|\n",
      "|       Bay of Plenty|Forestry and logg...|               Total|               Total|Carbon dioxide eq...|          Kilotonnes|Carbon dioxide eq...|                2010|                 107|\n",
      "|       Bay of Plenty|Forestry and logg...|               Total|               Total|Carbon dioxide eq...|          Kilotonnes|Carbon dioxide eq...|                2011|              109.51|\n",
      "+--------------------+--------------------+--------------------+--------------------+--------------------+--------------------+--------------------+--------------------+--------------------+\n",
      "only showing top 20 rows\n",
      "\n"
     ]
    }
   ],
   "source": [
    "pretty_print(df)"
   ]
  },
  {
   "cell_type": "code",
   "execution_count": 5,
   "metadata": {},
   "outputs": [],
   "source": [
    "def low_mem_spark_groupby_with_multiple_aggregates(df, groupby_col, agg_cols=[], agg_funcs=[], max_cols_per_partition=2):\n",
    "    dfs = []\n",
    "    agg_names = []\n",
    "    for i in range(len(agg_cols)):\n",
    "        agg_names.append(agg_funcs[i].__name__ + \"(\" + agg_cols[i] + \")\")\n",
    "    for i in range(0, len(agg_cols), max_cols_per_partition):\n",
    "        j = min(i + max_cols_per_partition, len(agg_cols) - 1)\n",
    "        dfs.append(df.groupby(groupby_col).agg(\n",
    "            *(agg_funcs[k](agg_cols[k]).alias(agg_funcs[k].__name__ + \"(\" + agg_cols[k] + \")\") for k in range(i, j + 1))\n",
    "        ))\n",
    "    ret = dfs[0]\n",
    "    for d in dfs[1:]:\n",
    "        ret = ret.join(d, groupby_col)\n",
    "    ret.cache()\n",
    "    del dfs\n",
    "    return ret"
   ]
  },
  {
   "cell_type": "code",
   "execution_count": 6,
   "metadata": {},
   "outputs": [
    {
     "name": "stdout",
     "output_type": "stream",
     "text": [
      "+-------------------------+-------------------------+-------------------------+-------------------------+-------------------------+-------------------------+-------------------------+-------------------------+-------------------------+-------------------------+-------------------------+-------------------------+-------------------------+-------------------------+-------------------------+-------------------------+-------------------------+-------------------------+-------------------------+-------------------------+-------------------------+-------------------------+-------------------------+\n",
      "|         region          |first(anzsic_descriptor) |   first(sub_industry)   |first(household_category)|first(household_category)|       first(gas)        |      first(units)       |      first(units)       |    first(magnitude)     |        min(year)        |        min(year)        |        max(year)        |        avg(year)        |        avg(year)        |      sum(data_val)      |   variance(data_val)    |   variance(data_val)    |    stddev(data_val)     |      min(data_val)      |      min(data_val)      |     mode(data_val)      |      avg(data_val)      |      avg(data_val)      |\n",
      "+-------------------------+-------------------------+-------------------------+-------------------------+-------------------------+-------------------------+-------------------------+-------------------------+-------------------------+-------------------------+-------------------------+-------------------------+-------------------------+-------------------------+-------------------------+-------------------------+-------------------------+-------------------------+-------------------------+-------------------------+-------------------------+-------------------------+-------------------------+\n",
      "|               Wellington|     Forestry and logg...|                    Total|                    Total|                    Total|     Carbon dioxide eq...|               Kilotonnes|               Kilotonnes|     Carbon dioxide eq...|                     2007|                     2007|                     2022|       2014.3516483516485|       2014.3516483516485|        283294.7699999999|        604407.7471568985|        604407.7471568985|        777.4366515394669|                    10.32|                    10.32|                   132.76|         622.625868131868|         622.625868131868|\n",
      "|              Hawke's Bay|     Forestry and logg...|                    Total|                    Total|                    Total|     Carbon dioxide eq...|               Kilotonnes|               Kilotonnes|     Carbon dioxide eq...|                     2007|                     2007|                     2022|       2014.3516483516485|       2014.3516483516485|       296685.43999999994|       1029065.2204422825|       1029065.2204422825|       1014.4285191388709|                   102.27|                   102.27|                     4.56|         652.055912087912|         652.055912087912|\n",
      "|                 Auckland|     Forestry and logg...|                    Total|                    Total|                    Total|     Carbon dioxide eq...|               Kilotonnes|               Kilotonnes|     Carbon dioxide eq...|                     2007|                     2007|                     2022|       2014.3516483516485|       2014.3516483516485|        888172.9999999993|        7654464.250973947|        7654464.250973947|       2766.6702461576347|                    10.38|                    10.38|                  1050.89|       1952.0285714285699|       1952.0285714285699|\n",
      "|                 Gisborne|     Forestry and logg...|                    Total|                    Total|                    Total|     Carbon dioxide eq...|               Kilotonnes|               Kilotonnes|     Carbon dioxide eq...|                     2007|                     2007|                     2022|       2014.3516483516485|       2014.3516483516485|       122422.67000000009|       207562.87106123145|       207562.87106123145|        455.5906836857306|                     0.31|                     0.31|                     7.15|        269.0608131868134|        269.0608131868134|\n",
      "|                Southland|     Forestry and logg...|                    Total|                    Total|                    Total|     Carbon dioxide eq...|               Kilotonnes|               Kilotonnes|     Carbon dioxide eq...|                     2007|                     2007|                     2022|       2014.3516483516485|       2014.3516483516485|        535721.2199999999|        3519875.507088677|        3519875.507088677|        1876.133126163673|                    10.46|                    10.46|                     6.61|       1177.4092747252744|       1177.4092747252744|\n",
      "|            Tasman/Nelson|     Forestry and logg...|                    Total|                    Total|                    Total|     Carbon dioxide eq...|               Kilotonnes|               Kilotonnes|     Carbon dioxide eq...|                     2007|                     2007|                     2022|       2014.3516483516485|       2014.3516483516485|        96580.05999999998|        79966.78160394733|        79966.78160394733|        282.7839839947576|                     0.56|                     0.56|                     0.76|        212.2638681318681|        212.2638681318681|\n",
      "|                  Waikato|     Forestry and logg...|                    Total|                    Total|                    Total|     Carbon dioxide eq...|               Kilotonnes|               Kilotonnes|     Carbon dioxide eq...|                     2007|                     2007|                     2022|       2014.3516483516485|       2014.3516483516485|       1370442.4200000002|     1.7569333970039107E7|     1.7569333970039107E7|         4191.57893520319|                   102.12|                   102.12|                  1038.13|        3011.961362637363|        3011.961362637363|\n",
      "|                 Taranaki|     Forestry and logg...|                    Total|                    Total|                    Total|     Carbon dioxide eq...|               Kilotonnes|               Kilotonnes|     Carbon dioxide eq...|                     2007|                     2007|                     2022|       2014.3516483516485|       2014.3516483516485|        516434.4999999999|        2613172.551667949|        2613172.551667949|       1616.5310240350939|                    10.01|                    10.01|                    14.15|       1135.0208791208788|       1135.0208791208788|\n",
      "|                    Otago|     Forestry and logg...|                    Total|                    Total|                    Total|     Carbon dioxide eq...|               Kilotonnes|               Kilotonnes|     Carbon dioxide eq...|                     2007|                     2007|                     2022|       2014.3516483516485|       2014.3516483516485|        443903.4899999998|        2358342.435556076|        2358342.435556076|       1535.6895635368744|                     1.37|                     1.37|                     14.7|        975.6120659340655|        975.6120659340655|\n",
      "|       Manawatū-Whanganui|     Forestry and logg...|                    Total|                    Total|                    Total|     Carbon dioxide eq...|               Kilotonnes|               Kilotonnes|     Carbon dioxide eq...|                     2007|                     2007|                     2022|       2014.3516483516485|       2014.3516483516485|       522288.39999999985|        3503359.994097398|        3503359.994097398|       1871.7264741669383|                     0.36|                     0.36|                    15.89|        1147.886593406593|        1147.886593406593|\n",
      "|            Bay of Plenty|     Forestry and logg...|                    Total|                    Total|                    Total|     Carbon dioxide eq...|               Kilotonnes|               Kilotonnes|     Carbon dioxide eq...|                     2007|                     2007|                     2022|       2014.3516483516485|       2014.3516483516485|                281267.09|        659186.8613807298|        659186.8613807298|        811.9032340006596|                      100|                      100|                    74.36|        618.1694285714286|        618.1694285714286|\n",
      "|               Canterbury|     Forestry and logg...|                    Total|                    Total|                    Total|     Carbon dioxide eq...|               Kilotonnes|               Kilotonnes|     Carbon dioxide eq...|                     2007|                     2007|                     2022|       2014.3516483516485|       2014.3516483516485|        979700.2499999998|      1.025955436235426E7|      1.025955436235426E7|       3203.0539118713345|                   100.98|                   100.98|                    91.77|        2153.187362637362|        2153.187362637362|\n",
      "|                   Nelson|     Manufacturing and...|                    Total|                    Total|                    Total|     Carbon dioxide eq...|               Kilotonnes|               Kilotonnes|     Carbon dioxide eq...|                     2007|                     2007|                     2022|                   2014.5|                   2014.5|                 23030.99|        8147.495266538689|        8147.495266538689|        90.26347692471573|                      1.3|                      1.3|                     1.54|        84.67275735294118|        84.67275735294118|\n",
      "|               West Coast|     Forestry and logg...|                    Total|                    Total|                    Total|     Carbon dioxide eq...|               Kilotonnes|               Kilotonnes|     Carbon dioxide eq...|                     2007|                     2007|                     2022|       2014.3516483516485|       2014.3516483516485|       102763.30999999994|       120331.94050716168|       120331.94050716168|        346.8889454957619|                     0.29|                     0.29|                     8.51|       225.85342857142845|       225.85342857142845|\n",
      "|                Northland|     Forestry and logg...|                    Total|                    Total|                    Total|     Carbon dioxide eq...|               Kilotonnes|               Kilotonnes|     Carbon dioxide eq...|                     2007|                     2007|                     2022|       2014.3516483516485|       2014.3516483516485|        417865.0399999998|       1880264.9825901655|       1880264.9825901655|       1371.2275458836748|                    10.19|                    10.19|                    18.52|        918.3847032967029|        918.3847032967029|\n",
      "|                   Tasman|     Manufacturing and...|                    Total|                    Total|                    Total|     Carbon dioxide eq...|               Kilotonnes|               Kilotonnes|     Carbon dioxide eq...|                     2007|                     2007|                     2022|                   2014.5|                   2014.5|        53510.06999999998|       57002.340867222425|       57002.340867222425|       238.75163008285918|                   100.55|                   100.55|                     3.97|       196.72819852941169|       196.72819852941169|\n",
      "|              Marlborough|     Forestry and logg...|                    Total|                    Total|                    Total|     Carbon dioxide eq...|               Kilotonnes|               Kilotonnes|     Carbon dioxide eq...|                     2007|                     2007|                     2022|       2014.3516483516485|       2014.3516483516485|        67971.90999999996|        46988.70251356637|        46988.70251356637|       216.76877661131542|                     0.46|                     0.46|                     4.06|        149.3888131868131|        149.3888131868131|\n",
      "+-------------------------+-------------------------+-------------------------+-------------------------+-------------------------+-------------------------+-------------------------+-------------------------+-------------------------+-------------------------+-------------------------+-------------------------+-------------------------+-------------------------+-------------------------+-------------------------+-------------------------+-------------------------+-------------------------+-------------------------+-------------------------+-------------------------+-------------------------+\n",
      "\n"
     ]
    }
   ],
   "source": [
    "summary_df = low_mem_spark_groupby_with_multiple_aggregates(df, \"region\",\n",
    "                                               agg_cols=[\"anzsic_descriptor\", \"sub_industry\", \"household_category\", \"gas\", \"units\",\n",
    "                                                         \"magnitude\", \"year\", \"year\", \"year\", \"data_val\", \"data_val\", \"data_val\", \"data_val\", \"data_val\", \"data_val\"],\n",
    "                                               agg_funcs=[F.first, F.first, F.first, F.first, F.first, F.first, F.min, F.max, F.avg, F.sum, F.variance, F.stddev, F.min, F.mode, F.avg, F.max],\n",
    "                                               max_cols_per_partition=2)\n",
    "pretty_print(summary_df)"
   ]
  },
  {
   "cell_type": "code",
   "execution_count": null,
   "metadata": {},
   "outputs": [],
   "source": []
  },
  {
   "cell_type": "code",
   "execution_count": null,
   "metadata": {},
   "outputs": [],
   "source": []
  }
 ],
 "metadata": {
  "kernelspec": {
   "display_name": "Python 3 (ipykernel)",
   "language": "python",
   "name": "python3"
  },
  "language_info": {
   "codemirror_mode": {
    "name": "ipython",
    "version": 3
   },
   "file_extension": ".py",
   "mimetype": "text/x-python",
   "name": "python",
   "nbconvert_exporter": "python",
   "pygments_lexer": "ipython3",
   "version": "3.10.13"
  }
 },
 "nbformat": 4,
 "nbformat_minor": 4
}

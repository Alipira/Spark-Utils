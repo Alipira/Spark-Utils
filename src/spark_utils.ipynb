{
 "cells": [
  {
   "cell_type": "code",
   "execution_count": null,
   "metadata": {},
   "outputs": [],
   "source": [
    "from faker import Faker\n",
    "from pyspark.sql import SparkSession\n",
    "from IPython.core.display import HTML\n",
    "\n",
    "display(HTML(\"<style>pre { white-space: pre !important; }</style>\"))\n",
    "spark = SparkSession.builder.getOrCreate()"
   ]
  },
  {
   "cell_type": "code",
   "execution_count": null,
   "metadata": {},
   "outputs": [],
   "source": [
    "df = spark.read.csv('../Tbl_BusinessDoc.csv', header=True)"
   ]
  },
  {
   "cell_type": "code",
   "execution_count": null,
   "metadata": {},
   "outputs": [],
   "source": [
    "def pretty_print(dataframe, max_lenght=20, **kwargs):\n",
    "    import math\n",
    "    max_lenght = max_lenght\n",
    "    for col in dataframe.columns:\n",
    "        if len(col) > max_lenght:\n",
    "            max_lenght = len(col)\n",
    "    for col in dataframe.columns:\n",
    "        preffix = math.floor((max_lenght - len(col)) / 2)\n",
    "        suffix = math.ceil((max_lenght - len(col)) / 2)\n",
    "        new_name = \" \" * preffix + col + \" \" * suffix\n",
    "        dataframe = dataframe.withColumnRenamed(col, new_name)\n",
    "    dataframe.show(**kwargs)\n",
    "    del(dataframe)"
   ]
  },
  {
   "cell_type": "code",
   "execution_count": null,
   "metadata": {},
   "outputs": [],
   "source": [
    "def print_decorator(func):"
   ]
  }
 ],
 "metadata": {
  "kernelspec": {
   "display_name": "base",
   "language": "python",
   "name": "python3"
  },
  "language_info": {
   "name": "python",
   "version": "3.11.5"
  }
 },
 "nbformat": 4,
 "nbformat_minor": 2
}

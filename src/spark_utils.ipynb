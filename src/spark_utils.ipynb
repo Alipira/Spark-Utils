{
 "cells": [
  {
   "cell_type": "code",
   "execution_count": 1,
   "metadata": {},
   "outputs": [
    {
     "data": {
      "text/html": [
       "<style>pre { white-space: pre !important; }</style>"
      ],
      "text/plain": [
       "<IPython.core.display.HTML object>"
      ]
     },
     "metadata": {},
     "output_type": "display_data"
    },
    {
     "name": "stderr",
     "output_type": "stream",
     "text": [
      "your 131072x1 screen size is bogus. expect trouble\n",
      "24/03/17 10:13:44 WARN Utils: Your hostname, Pira resolves to a loopback address: 127.0.1.1; using 172.24.25.78 instead (on interface eth0)\n",
      "24/03/17 10:13:44 WARN Utils: Set SPARK_LOCAL_IP if you need to bind to another address\n",
      "Setting default log level to \"WARN\".\n",
      "To adjust logging level use sc.setLogLevel(newLevel). For SparkR, use setLogLevel(newLevel).\n",
      "24/03/17 10:13:46 WARN NativeCodeLoader: Unable to load native-hadoop library for your platform... using builtin-java classes where applicable\n",
      "24/03/17 10:13:46 WARN Utils: Service 'SparkUI' could not bind on port 4040. Attempting port 4041.\n"
     ]
    }
   ],
   "source": [
    "from pyspark.sql import SparkSession\n",
    "from IPython.core.display import HTML\n",
    "\n",
    "display(HTML(\"<style>pre { white-space: pre !important; }</style>\"))\n",
    "spark = SparkSession.builder.getOrCreate()"
   ]
  },
  {
   "cell_type": "code",
   "execution_count": 2,
   "metadata": {},
   "outputs": [],
   "source": [
    "df = spark.read.csv('../data/greenhouse-gas-emissions-by-region-industry-and-ho.csv', header=True)"
   ]
  },
  {
   "cell_type": "code",
   "execution_count": 3,
   "metadata": {},
   "outputs": [],
   "source": [
    "def pretty_print(dataframe, max_lenght=20, **kwargs):\n",
    "    import math\n",
    "    max_lenght = max_lenght\n",
    "    for col in dataframe.columns:\n",
    "        if len(col) > max_lenght:\n",
    "            max_lenght = len(col)\n",
    "    for col in dataframe.columns:\n",
    "        preffix = math.floor((max_lenght - len(col)) / 2)\n",
    "        suffix = math.ceil((max_lenght - len(col)) / 2)\n",
    "        new_name = \" \" * preffix + col + \" \" * suffix\n",
    "        dataframe = dataframe.withColumnRenamed(col, new_name)\n",
    "    dataframe.show(**kwargs)\n",
    "    del(dataframe)"
   ]
  },
  {
   "cell_type": "code",
   "execution_count": 4,
   "metadata": {},
   "outputs": [
    {
     "name": "stdout",
     "output_type": "stream",
     "text": [
      "+--------------------+--------------------+--------------------+--------------------+--------------------+--------------------+--------------------+--------------------+--------------------+\n",
      "|       region       | anzsic_descriptor  |    sub_industry    | household_category |        gas         |       units        |     magnitude      |        year        |      data_val      |\n",
      "+--------------------+--------------------+--------------------+--------------------+--------------------+--------------------+--------------------+--------------------+--------------------+\n",
      "|            Auckland|Forestry and logg...|               Total|               Total|Carbon dioxide eq...|          Kilotonnes|Carbon dioxide eq...|                2007|               45.92|\n",
      "|            Auckland|Forestry and logg...|               Total|               Total|Carbon dioxide eq...|          Kilotonnes|Carbon dioxide eq...|                2008|               45.88|\n",
      "|            Auckland|Forestry and logg...|               Total|               Total|Carbon dioxide eq...|          Kilotonnes|Carbon dioxide eq...|                2009|               43.71|\n",
      "|            Auckland|Forestry and logg...|               Total|               Total|Carbon dioxide eq...|          Kilotonnes|Carbon dioxide eq...|                2010|               39.61|\n",
      "|            Auckland|Forestry and logg...|               Total|               Total|Carbon dioxide eq...|          Kilotonnes|Carbon dioxide eq...|                2011|               40.99|\n",
      "|            Auckland|Forestry and logg...|               Total|               Total|Carbon dioxide eq...|          Kilotonnes|Carbon dioxide eq...|                2012|               41.13|\n",
      "|            Auckland|Forestry and logg...|               Total|               Total|Carbon dioxide eq...|          Kilotonnes|Carbon dioxide eq...|                2013|                40.1|\n",
      "|            Auckland|Forestry and logg...|               Total|               Total|Carbon dioxide eq...|          Kilotonnes|Carbon dioxide eq...|                2014|               41.83|\n",
      "|            Auckland|Forestry and logg...|               Total|               Total|Carbon dioxide eq...|          Kilotonnes|Carbon dioxide eq...|                2015|               35.16|\n",
      "|            Auckland|Forestry and logg...|               Total|               Total|Carbon dioxide eq...|          Kilotonnes|Carbon dioxide eq...|                2016|               27.23|\n",
      "|            Auckland|Forestry and logg...|               Total|               Total|Carbon dioxide eq...|          Kilotonnes|Carbon dioxide eq...|                2017|               25.81|\n",
      "|            Auckland|Forestry and logg...|               Total|               Total|Carbon dioxide eq...|          Kilotonnes|Carbon dioxide eq...|                2018|                33.1|\n",
      "|            Auckland|Forestry and logg...|               Total|               Total|Carbon dioxide eq...|          Kilotonnes|Carbon dioxide eq...|                2019|               32.56|\n",
      "|            Auckland|Forestry and logg...|               Total|               Total|Carbon dioxide eq...|          Kilotonnes|Carbon dioxide eq...|                2020|               38.63|\n",
      "|            Auckland|Forestry and logg...|               Total|               Total|Carbon dioxide eq...|          Kilotonnes|Carbon dioxide eq...|                2021|               49.21|\n",
      "|       Bay of Plenty|Forestry and logg...|               Total|               Total|Carbon dioxide eq...|          Kilotonnes|Carbon dioxide eq...|                2007|              112.27|\n",
      "|       Bay of Plenty|Forestry and logg...|               Total|               Total|Carbon dioxide eq...|          Kilotonnes|Carbon dioxide eq...|                2008|               99.96|\n",
      "|       Bay of Plenty|Forestry and logg...|               Total|               Total|Carbon dioxide eq...|          Kilotonnes|Carbon dioxide eq...|                2009|                 100|\n",
      "|       Bay of Plenty|Forestry and logg...|               Total|               Total|Carbon dioxide eq...|          Kilotonnes|Carbon dioxide eq...|                2010|                 107|\n",
      "|       Bay of Plenty|Forestry and logg...|               Total|               Total|Carbon dioxide eq...|          Kilotonnes|Carbon dioxide eq...|                2011|              109.51|\n",
      "+--------------------+--------------------+--------------------+--------------------+--------------------+--------------------+--------------------+--------------------+--------------------+\n",
      "only showing top 20 rows\n",
      "\n"
     ]
    }
   ],
   "source": [
    "pretty_print(df)"
   ]
  }
 ],
 "metadata": {
  "kernelspec": {
   "display_name": "base",
   "language": "python",
   "name": "python3"
  },
  "language_info": {
   "codemirror_mode": {
    "name": "ipython",
    "version": 3
   },
   "file_extension": ".py",
   "mimetype": "text/x-python",
   "name": "python",
   "nbconvert_exporter": "python",
   "pygments_lexer": "ipython3",
   "version": "3.11.5"
  }
 },
 "nbformat": 4,
 "nbformat_minor": 2
}
